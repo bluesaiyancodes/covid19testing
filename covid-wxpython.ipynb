{
 "cells": [
  {
   "cell_type": "code",
   "execution_count": 27,
   "metadata": {},
   "outputs": [
    {
     "name": "stdout",
     "output_type": "stream",
     "text": [
      "The autoreload extension is already loaded. To reload it, use:\n",
      "  %reload_ext autoreload\n"
     ]
    }
   ],
   "source": [
    "from tensorflow_core.keras.models import load_model\n",
    "from tensorflow_core.keras.preprocessing import image\n",
    "import numpy as np\n",
    "import cv2\n",
    "import wx\n",
    "import wx.lib.filebrowsebutton\n",
    "from PIL import Image\n",
    "\n",
    "%load_ext autoreload\n",
    "%autoreload 2"
   ]
  },
  {
   "cell_type": "code",
   "execution_count": 28,
   "metadata": {},
   "outputs": [],
   "source": [
    "# load the model we saved\n",
    "model = load_model('covid2model')\n",
    "model.compile(loss='binary_crossentropy',\n",
    "              optimizer='rmsprop',\n",
    "              metrics=['accuracy'])\n"
   ]
  },
  {
   "cell_type": "code",
   "execution_count": 23,
   "metadata": {},
   "outputs": [
    {
     "name": "stdout",
     "output_type": "stream",
     "text": [
      "[0]\n",
      "[[0.8219949  0.17800507]]\n"
     ]
    }
   ],
   "source": [
    "# predicting images\n",
    "# import urllib.request\n",
    "# req = urllib.request.urlopen('http://answers.opencv.org/upfiles/logo_2.png')\n",
    "# img = image.load_img(req, target_size=(img_width, img_height))\n",
    "(img_width, img_height) = (224, 224)\n",
    "img = image.load_img('dataset/covid/1-s2.0-S0929664620300449-gr2_lrg-a.jpg', target_size=(img_width, img_height))\n",
    "x = image.img_to_array(img)\n",
    "x = np.expand_dims(x, axis=0)\n",
    "\n",
    "images = np.vstack([x])\n",
    "classes = model.predict(images/255, batch_size=10)\n",
    "print(np.argmax(classes, axis=1))\n",
    "print(classes)"
   ]
  },
  {
   "cell_type": "code",
   "execution_count": 12,
   "metadata": {},
   "outputs": [
    {
     "name": "stdout",
     "output_type": "stream",
     "text": [
      "[1]\n",
      "[[0.2824068 0.7175932]]\n"
     ]
    }
   ],
   "source": [
    "(img_width, img_height) = (224, 224)\n",
    "img = image.load_img('dataset/normal/IM-0466-0001.jpeg', target_size=(img_width, img_height))\n",
    "x = image.img_to_array(img)\n",
    "x = np.expand_dims(x, axis=0)\n",
    "\n",
    "images = np.vstack([x])\n",
    "classes = model.predict(images/255, batch_size=10)\n",
    "print(np.argmax(classes, axis=1))\n",
    "print(classes)"
   ]
  },
  {
   "cell_type": "code",
   "execution_count": 13,
   "metadata": {},
   "outputs": [
    {
     "data": {
      "text/plain": [
       "0.7175932"
      ]
     },
     "execution_count": 13,
     "metadata": {},
     "output_type": "execute_result"
    }
   ],
   "source": [
    "classes[0][1] "
   ]
  },
  {
   "cell_type": "code",
   "execution_count": 24,
   "metadata": {},
   "outputs": [],
   "source": [
    "def is_affected(path, img_height, img_width):\n",
    "    img = image.load_img(path, target_size=(img_width, img_height))\n",
    "    x = image.img_to_array(img)\n",
    "    x = np.expand_dims(x, axis = 0)\n",
    "    \n",
    "    images = np.vstack([x])\n",
    "    classes = model.predict(images/255, batch_size = 10)\n",
    "    if np.argmax(classes, axis=1) == 0:\n",
    "        out = \"Covid Positive with \" + str(round(classes[0][0] * 100)) + \"% Accuracy\"\n",
    "        return out\n",
    "    else:\n",
    "        out = \"Covid Negative with \" + str(round(classes[0][1] * 100)) + \"% Accuracy\"\n",
    "        return out"
   ]
  },
  {
   "cell_type": "code",
   "execution_count": 25,
   "metadata": {},
   "outputs": [],
   "source": [
    "class MyFrame(wx.Frame):    \n",
    "    def on_show(self, event):\n",
    "        path = str(self.fbb.GetValue())\n",
    "        img  = Image.open(path)\n",
    "        img.show()\n",
    "        \n",
    "    def on_perform(self, event):\n",
    "        path = str(self.fbb.GetValue())\n",
    "        output = is_affected(path, self.img_height, self.img_width)\n",
    "        wx.MessageBox(str(output), \"Result\" ,wx.OK | wx.ICON_INFORMATION)\n",
    "            \n",
    "    def __init__(self):\n",
    "        super().__init__(parent=None, title='Covid-19 Detection', size = (600,480))\n",
    "        self.img_width, self.img_height = 224, 224\n",
    "        self.panel = wx.Panel(self)        \n",
    "        self.Bind(wx.EVT_CLOSE, self.OnCloseWindow)\n",
    "        my_sizer = wx.BoxSizer(wx.VERTICAL)    \n",
    "        \n",
    "        self.fbb = wx.lib.filebrowsebutton.FileBrowseButton(self.panel,\n",
    "            labelText=\"Select Image to Predict (jpg):\", fileMask=\"*.jpg; *.jpeg\")\n",
    "        my_sizer.Add(self.fbb, 0, wx.ALL | wx.CENTER, 10)\n",
    "        \n",
    "        \n",
    "        btn2 = wx.Button(self.panel, label='Show Image')\n",
    "        btn2.Bind(wx.EVT_BUTTON, self.on_show)\n",
    "        my_sizer.Add(btn2, 0, wx.ALL | wx.CENTER, 5) \n",
    "        \n",
    "        btn3 = wx.Button(self.panel, label='Perform Test')\n",
    "        btn3.Bind(wx.EVT_BUTTON, self.on_perform)\n",
    "        my_sizer.Add(btn3, 0, wx.ALL | wx.CENTER, 5) \n",
    "        \n",
    "        self.label_output = wx.StaticText(self.panel,-1,style = wx.ALIGN_CENTER)\n",
    "        my_sizer.Add(self.label_output, 0, wx.ALL | wx.EXPAND, 10)\n",
    "        \n",
    "        self.panel.SetSizer(my_sizer)        \n",
    "        self.Show()\n",
    "        \n",
    "    def OnCloseWindow(self, e):\n",
    "        self.Destroy()"
   ]
  },
  {
   "cell_type": "code",
   "execution_count": 26,
   "metadata": {},
   "outputs": [
    {
     "data": {
      "text/plain": [
       "0"
      ]
     },
     "execution_count": 26,
     "metadata": {},
     "output_type": "execute_result"
    }
   ],
   "source": [
    "app = wx.App()\n",
    "frame = MyFrame()\n",
    "app.MainLoop()"
   ]
  },
  {
   "cell_type": "code",
   "execution_count": 20,
   "metadata": {},
   "outputs": [],
   "source": [
    "# Run this Cell when \"wx.App object must be created first!\" Error Appears\n",
    "del app"
   ]
  },
  {
   "cell_type": "code",
   "execution_count": null,
   "metadata": {},
   "outputs": [],
   "source": []
  }
 ],
 "metadata": {
  "kernelspec": {
   "display_name": "Python 3",
   "language": "python",
   "name": "python3"
  },
  "language_info": {
   "codemirror_mode": {
    "name": "ipython",
    "version": 3
   },
   "file_extension": ".py",
   "mimetype": "text/x-python",
   "name": "python",
   "nbconvert_exporter": "python",
   "pygments_lexer": "ipython3",
   "version": "3.7.6"
  }
 },
 "nbformat": 4,
 "nbformat_minor": 4
}
