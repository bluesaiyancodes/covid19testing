{
 "cells": [
  {
   "cell_type": "markdown",
   "metadata": {},
   "source": [
    "# https://www.pyimagesearch.com/2020/03/16/detecting-covid-19-in-x-ray-images-with-keras-tensorflow-and-deep-learning/"
   ]
  },
  {
   "cell_type": "code",
   "execution_count": 21,
   "metadata": {},
   "outputs": [],
   "source": [
    "# import the necessary packages\n",
    "from tensorflow.keras.preprocessing.image import ImageDataGenerator\n",
    "from tensorflow.keras.applications import VGG16\n",
    "from tensorflow.keras.layers import AveragePooling2D\n",
    "from tensorflow.keras.layers import Dropout\n",
    "from tensorflow.keras.layers import Flatten\n",
    "from tensorflow.keras.layers import Dense\n",
    "from tensorflow.keras.layers import Input\n",
    "from tensorflow.keras.models import Model, model_from_json\n",
    "from tensorflow.keras.optimizers import Adam\n",
    "from tensorflow.keras.utils import to_categorical\n",
    "from sklearn.preprocessing import LabelBinarizer\n",
    "from sklearn.model_selection import train_test_split\n",
    "from sklearn.metrics import classification_report\n",
    "from sklearn.metrics import confusion_matrix\n",
    "from imutils import paths\n",
    "import matplotlib.pyplot as plt\n",
    "import numpy as np\n",
    "import argparse\n",
    "import cv2\n",
    "import os"
   ]
  },
  {
   "cell_type": "code",
   "execution_count": 2,
   "metadata": {},
   "outputs": [],
   "source": [
    "INIT_LR = 1e-3\n",
    "EPOCHS = 25\n",
    "BS = 8"
   ]
  },
  {
   "cell_type": "code",
   "execution_count": 3,
   "metadata": {},
   "outputs": [
    {
     "name": "stdout",
     "output_type": "stream",
     "text": [
      "[INFO] loading images...\n"
     ]
    }
   ],
   "source": [
    "# grab the list of images in our dataset directory, then initialize\n",
    "# the list of data (i.e., images) and class images\n",
    "print(\"[INFO] loading images...\")\n",
    "imagePaths = list(paths.list_images(\"dataset\"))\n",
    "data = []\n",
    "labels = []\n",
    "# loop over the image paths\n",
    "for imagePath in imagePaths:\n",
    "\t# extract the class label from the filename\n",
    "\tlabel = imagePath.split(os.path.sep)[-2]\n",
    "\t# load the image, swap color channels, and resize it to be a fixed\n",
    "\t# 224x224 pixels while ignoring aspect ratio\n",
    "\timage = cv2.imread(imagePath)\n",
    "\timage = cv2.cvtColor(image, cv2.COLOR_BGR2RGB)\n",
    "\timage = cv2.resize(image, (224, 224))\n",
    "\t# update the data and labels lists, respectively\n",
    "\tdata.append(image)\n",
    "\tlabels.append(label)\n",
    "# convert the data and labels to NumPy arrays while scaling the pixel\n",
    "# intensities to the range [0, 1]\n",
    "data = np.array(data) / 255.0\n",
    "labels = np.array(labels)"
   ]
  },
  {
   "cell_type": "code",
   "execution_count": 4,
   "metadata": {
    "scrolled": true
   },
   "outputs": [
    {
     "data": {
      "text/plain": [
       "['dataset\\\\covid\\\\1-s2.0-S0140673620303706-fx1_lrg.jpg',\n",
       " 'dataset\\\\covid\\\\1-s2.0-S0929664620300449-gr2_lrg-a.jpg',\n",
       " 'dataset\\\\covid\\\\1-s2.0-S0929664620300449-gr2_lrg-b.jpg',\n",
       " 'dataset\\\\covid\\\\1-s2.0-S0929664620300449-gr2_lrg-c.jpg',\n",
       " 'dataset\\\\covid\\\\1-s2.0-S0929664620300449-gr2_lrg-d.jpg',\n",
       " 'dataset\\\\covid\\\\auntminnie-a-2020_01_28_23_51_6665_2020_01_28_Vietnam_coronavirus.jpeg',\n",
       " 'dataset\\\\covid\\\\auntminnie-b-2020_01_28_23_51_6665_2020_01_28_Vietnam_coronavirus.jpeg',\n",
       " 'dataset\\\\covid\\\\auntminnie-c-2020_01_28_23_51_6665_2020_01_28_Vietnam_coronavirus.jpeg',\n",
       " 'dataset\\\\covid\\\\auntminnie-d-2020_01_28_23_51_6665_2020_01_28_Vietnam_coronavirus.jpeg',\n",
       " 'dataset\\\\covid\\\\lancet-case2a.jpg',\n",
       " 'dataset\\\\covid\\\\lancet-case2b.jpg',\n",
       " 'dataset\\\\covid\\\\nCoV-radiol.2020200269.fig1-day7.jpeg',\n",
       " 'dataset\\\\covid\\\\nejmc2001573_f1a.jpeg',\n",
       " 'dataset\\\\covid\\\\nejmc2001573_f1b.jpeg',\n",
       " 'dataset\\\\covid\\\\nejmoa2001191_f1-PA.jpeg',\n",
       " 'dataset\\\\covid\\\\nejmoa2001191_f3-PA.jpeg',\n",
       " 'dataset\\\\covid\\\\nejmoa2001191_f4.jpeg',\n",
       " 'dataset\\\\covid\\\\nejmoa2001191_f5-PA.jpeg',\n",
       " 'dataset\\\\covid\\\\radiol.2020200490.fig3.jpeg',\n",
       " 'dataset\\\\covid\\\\radiopedia-covid-19-pneumonia-2.jpg',\n",
       " 'dataset\\\\covid\\\\ryct.2020200028.fig1a.jpeg',\n",
       " 'dataset\\\\covid\\\\ryct.2020200034.fig2.jpeg',\n",
       " 'dataset\\\\covid\\\\ryct.2020200034.fig5-day0.jpeg',\n",
       " 'dataset\\\\covid\\\\ryct.2020200034.fig5-day4.jpeg',\n",
       " 'dataset\\\\covid\\\\ryct.2020200034.fig5-day7.jpeg',\n",
       " 'dataset\\\\normal\\\\IM-0033-0001-0001.jpeg',\n",
       " 'dataset\\\\normal\\\\IM-0240-0001.jpeg',\n",
       " 'dataset\\\\normal\\\\IM-0466-0001.jpeg',\n",
       " 'dataset\\\\normal\\\\NORMAL2-IM-0315-0001.jpeg',\n",
       " 'dataset\\\\normal\\\\NORMAL2-IM-0696-0001.jpeg',\n",
       " 'dataset\\\\normal\\\\NORMAL2-IM-0869-0001.jpeg',\n",
       " 'dataset\\\\normal\\\\NORMAL2-IM-1179-0001.jpeg',\n",
       " 'dataset\\\\normal\\\\person1102_bacteria_3043.jpeg',\n",
       " 'dataset\\\\normal\\\\person1290_virus_2215.jpeg',\n",
       " 'dataset\\\\normal\\\\person1558_bacteria_4066.jpeg',\n",
       " 'dataset\\\\normal\\\\person1599_virus_2776.jpeg',\n",
       " 'dataset\\\\normal\\\\person1830_bacteria_4693.jpeg',\n",
       " 'dataset\\\\normal\\\\person1935_bacteria_4849.jpeg',\n",
       " 'dataset\\\\normal\\\\person1_bacteria_2.jpeg',\n",
       " 'dataset\\\\normal\\\\person259_bacteria_1220.jpeg',\n",
       " 'dataset\\\\normal\\\\person339_bacteria_1574.jpeg',\n",
       " 'dataset\\\\normal\\\\person378_virus_761.jpeg',\n",
       " 'dataset\\\\normal\\\\person438_bacteria_1893.jpeg',\n",
       " 'dataset\\\\normal\\\\person525_bacteria_2216.jpeg',\n",
       " 'dataset\\\\normal\\\\person612_bacteria_2478.jpeg',\n",
       " 'dataset\\\\normal\\\\person651_bacteria_2543.jpeg',\n",
       " 'dataset\\\\normal\\\\person925_virus_1582.jpeg',\n",
       " 'dataset\\\\normal\\\\person934_virus_1595.jpeg',\n",
       " 'dataset\\\\normal\\\\person939_bacteria_2864.jpeg',\n",
       " 'dataset\\\\normal\\\\person989_virus_1667.jpeg']"
      ]
     },
     "execution_count": 4,
     "metadata": {},
     "output_type": "execute_result"
    }
   ],
   "source": [
    "imagePaths "
   ]
  },
  {
   "cell_type": "code",
   "execution_count": 5,
   "metadata": {
    "scrolled": true
   },
   "outputs": [
    {
     "data": {
      "text/plain": [
       "'covid'"
      ]
     },
     "execution_count": 5,
     "metadata": {},
     "output_type": "execute_result"
    }
   ],
   "source": [
    "imagePaths[0].split(os.path.sep)[-2]"
   ]
  },
  {
   "cell_type": "code",
   "execution_count": 26,
   "metadata": {},
   "outputs": [
    {
     "data": {
      "text/plain": [
       "(50, 224, 224, 3)"
      ]
     },
     "execution_count": 26,
     "metadata": {},
     "output_type": "execute_result"
    }
   ],
   "source": [
    "data.shape"
   ]
  },
  {
   "cell_type": "code",
   "execution_count": 7,
   "metadata": {},
   "outputs": [
    {
     "name": "stdout",
     "output_type": "stream",
     "text": [
      "[[1. 0.]\n",
      " [1. 0.]\n",
      " [1. 0.]\n",
      " [1. 0.]\n",
      " [1. 0.]\n",
      " [1. 0.]\n",
      " [1. 0.]\n",
      " [1. 0.]\n",
      " [1. 0.]\n",
      " [1. 0.]\n",
      " [1. 0.]\n",
      " [1. 0.]\n",
      " [1. 0.]\n",
      " [1. 0.]\n",
      " [1. 0.]\n",
      " [1. 0.]\n",
      " [1. 0.]\n",
      " [1. 0.]\n",
      " [1. 0.]\n",
      " [1. 0.]\n",
      " [1. 0.]\n",
      " [1. 0.]\n",
      " [1. 0.]\n",
      " [1. 0.]\n",
      " [1. 0.]\n",
      " [0. 1.]\n",
      " [0. 1.]\n",
      " [0. 1.]\n",
      " [0. 1.]\n",
      " [0. 1.]\n",
      " [0. 1.]\n",
      " [0. 1.]\n",
      " [0. 1.]\n",
      " [0. 1.]\n",
      " [0. 1.]\n",
      " [0. 1.]\n",
      " [0. 1.]\n",
      " [0. 1.]\n",
      " [0. 1.]\n",
      " [0. 1.]\n",
      " [0. 1.]\n",
      " [0. 1.]\n",
      " [0. 1.]\n",
      " [0. 1.]\n",
      " [0. 1.]\n",
      " [0. 1.]\n",
      " [0. 1.]\n",
      " [0. 1.]\n",
      " [0. 1.]\n",
      " [0. 1.]]\n"
     ]
    }
   ],
   "source": [
    "# perform one-hot encoding on the labels\n",
    "lb = LabelBinarizer()\n",
    "labels = lb.fit_transform(labels)\n",
    "labels = to_categorical(labels); \n",
    "print(labels)\n",
    "# partition the data into training and testing splits using 80% of\n",
    "# the data for training and the remaining 20% for testing\n",
    "(trainX, testX, trainY, testY) = train_test_split(data, labels, test_size=0.20, stratify=labels, random_state=42)\n",
    "# initialize the training data augmentation object\n",
    "trainAug = ImageDataGenerator(rotation_range=15, fill_mode=\"nearest\")"
   ]
  },
  {
   "cell_type": "code",
   "execution_count": 8,
   "metadata": {},
   "outputs": [
    {
     "name": "stdout",
     "output_type": "stream",
     "text": [
      "WARNING:tensorflow:From C:\\Users\\Blue\\Anaconda3\\lib\\site-packages\\tensorflow_core\\python\\ops\\resource_variable_ops.py:1630: calling BaseResourceVariable.__init__ (from tensorflow.python.ops.resource_variable_ops) with constraint is deprecated and will be removed in a future version.\n",
      "Instructions for updating:\n",
      "If using Keras pass *_constraint arguments to layers.\n"
     ]
    }
   ],
   "source": [
    "# load the VGG16 network, ensuring the head FC layer sets are left off\n",
    "baseModel = VGG16(weights=\"imagenet\", include_top=False, input_tensor=Input(shape=(224, 224, 3)))\n",
    "# construct the head of the model that will be placed on top of the\n",
    "# the base model\n",
    "headModel = baseModel.output\n",
    "headModel = AveragePooling2D(pool_size=(4, 4))(headModel)\n",
    "headModel = Flatten(name=\"flatten\")(headModel)\n",
    "headModel = Dense(64, activation=\"relu\")(headModel)\n",
    "headModel = Dropout(0.5)(headModel)\n",
    "headModel = Dense(2, activation=\"softmax\")(headModel)\n",
    "# place the head FC model on top of the base model (this will become the actual model we will train)\n",
    "model = Model(inputs=baseModel.input, outputs=headModel)\n",
    "# loop over all layers in the base model and freeze them so they will\n",
    "# *not* be updated during the first training process\n",
    "for layer in baseModel.layers:\n",
    "\tlayer.trainable = False"
   ]
  },
  {
   "cell_type": "code",
   "execution_count": 9,
   "metadata": {},
   "outputs": [
    {
     "name": "stdout",
     "output_type": "stream",
     "text": [
      "[INFO] compiling model...\n",
      "[INFO] training head...\n",
      "Epoch 1/25\n",
      "WARNING:tensorflow:From C:\\Users\\Blue\\Anaconda3\\lib\\site-packages\\tensorflow_core\\python\\ops\\math_grad.py:1424: where (from tensorflow.python.ops.array_ops) is deprecated and will be removed in a future version.\n",
      "Instructions for updating:\n",
      "Use tf.where in 2.0, which has the same broadcast rule as np.where\n",
      "4/5 [=======================>......] - ETA: 2s - loss: 1.0649 - acc: 0.4062Epoch 1/25\n",
      "10/5 [============================================================] - 3s 297ms/sample - loss: 0.7143 - acc: 0.5000\n",
      "5/5 [==============================] - 15s 3s/step - loss: 0.9866 - acc: 0.4500 - val_loss: 0.7073 - val_acc: 0.5000\n",
      "Epoch 2/25\n",
      "4/5 [=======================>......] - ETA: 2s - loss: 0.7514 - acc: 0.5938Epoch 1/25\n",
      "10/5 [============================================================] - 3s 277ms/sample - loss: 0.7113 - acc: 0.5000\n",
      "5/5 [==============================] - 14s 3s/step - loss: 0.7496 - acc: 0.5750 - val_loss: 0.7035 - val_acc: 0.5000\n",
      "Epoch 3/25\n",
      "4/5 [=======================>......] - ETA: 2s - loss: 0.7319 - acc: 0.5625Epoch 1/25\n",
      "10/5 [============================================================] - 3s 276ms/sample - loss: 0.7079 - acc: 0.5000\n",
      "5/5 [==============================] - 14s 3s/step - loss: 0.8083 - acc: 0.5000 - val_loss: 0.6919 - val_acc: 0.5000\n",
      "Epoch 4/25\n",
      "4/5 [=======================>......] - ETA: 2s - loss: 0.7754 - acc: 0.5000Epoch 1/25\n",
      "10/5 [============================================================] - 3s 276ms/sample - loss: 0.6939 - acc: 0.7000\n",
      "5/5 [==============================] - 14s 3s/step - loss: 0.7358 - acc: 0.5250 - val_loss: 0.6725 - val_acc: 0.7000\n",
      "Epoch 5/25\n",
      "4/5 [=======================>......] - ETA: 2s - loss: 0.7272 - acc: 0.6250Epoch 1/25\n",
      "10/5 [============================================================] - 3s 279ms/sample - loss: 0.6905 - acc: 0.8000\n",
      "5/5 [==============================] - 14s 3s/step - loss: 0.7804 - acc: 0.5750 - val_loss: 0.6661 - val_acc: 0.8000\n",
      "Epoch 6/25\n",
      "4/5 [=======================>......] - ETA: 2s - loss: 0.6684 - acc: 0.5000Epoch 1/25\n",
      "10/5 [============================================================] - 3s 287ms/sample - loss: 0.6726 - acc: 0.8000\n",
      "5/5 [==============================] - 14s 3s/step - loss: 0.6469 - acc: 0.5250 - val_loss: 0.6465 - val_acc: 0.8000\n",
      "Epoch 7/25\n",
      "4/5 [=======================>......] - ETA: 2s - loss: 0.6419 - acc: 0.6875Epoch 1/25\n",
      "10/5 [============================================================] - 3s 279ms/sample - loss: 0.6648 - acc: 0.8000\n",
      "5/5 [==============================] - 14s 3s/step - loss: 0.6145 - acc: 0.7250 - val_loss: 0.6365 - val_acc: 0.8000\n",
      "Epoch 8/25\n",
      "4/5 [=======================>......] - ETA: 2s - loss: 0.6603 - acc: 0.5312Epoch 1/25\n",
      "10/5 [============================================================] - 3s 284ms/sample - loss: 0.6544 - acc: 0.8000\n",
      "5/5 [==============================] - 14s 3s/step - loss: 0.6567 - acc: 0.5500 - val_loss: 0.6228 - val_acc: 0.8000\n",
      "Epoch 9/25\n",
      "4/5 [=======================>......] - ETA: 2s - loss: 0.6372 - acc: 0.6875Epoch 1/25\n",
      "10/5 [============================================================] - 3s 285ms/sample - loss: 0.6453 - acc: 0.8000\n",
      "5/5 [==============================] - 14s 3s/step - loss: 0.6309 - acc: 0.6750 - val_loss: 0.6117 - val_acc: 0.8000\n",
      "Epoch 10/25\n",
      "4/5 [=======================>......] - ETA: 2s - loss: 0.6148 - acc: 0.6875Epoch 1/25\n",
      "10/5 [============================================================] - 3s 280ms/sample - loss: 0.6430 - acc: 0.8000\n",
      "5/5 [==============================] - 14s 3s/step - loss: 0.6422 - acc: 0.6250 - val_loss: 0.6069 - val_acc: 0.8000\n",
      "Epoch 11/25\n",
      "4/5 [=======================>......] - ETA: 2s - loss: 0.6512 - acc: 0.6562Epoch 1/25\n",
      "10/5 [============================================================] - 3s 279ms/sample - loss: 0.6321 - acc: 0.8000\n",
      "5/5 [==============================] - 14s 3s/step - loss: 0.6433 - acc: 0.6500 - val_loss: 0.5924 - val_acc: 0.8000\n",
      "Epoch 12/25\n",
      "4/5 [=======================>......] - ETA: 2s - loss: 0.5272 - acc: 0.7812Epoch 1/25\n",
      "10/5 [============================================================] - 3s 279ms/sample - loss: 0.6256 - acc: 0.9000\n",
      "5/5 [==============================] - 14s 3s/step - loss: 0.5321 - acc: 0.7750 - val_loss: 0.5820 - val_acc: 0.9000\n",
      "Epoch 13/25\n",
      "4/5 [=======================>......] - ETA: 2s - loss: 0.5251 - acc: 0.8438Epoch 1/25\n",
      "10/5 [============================================================] - 3s 280ms/sample - loss: 0.6134 - acc: 0.8000\n",
      "5/5 [==============================] - 14s 3s/step - loss: 0.5317 - acc: 0.8250 - val_loss: 0.5683 - val_acc: 0.8000\n",
      "Epoch 14/25\n",
      "4/5 [=======================>......] - ETA: 2s - loss: 0.4566 - acc: 0.8438Epoch 1/25\n",
      "10/5 [============================================================] - 3s 275ms/sample - loss: 0.5964 - acc: 0.9000\n",
      "5/5 [==============================] - 14s 3s/step - loss: 0.5086 - acc: 0.8000 - val_loss: 0.5515 - val_acc: 0.9000\n",
      "Epoch 15/25\n",
      "4/5 [=======================>......] - ETA: 2s - loss: 0.4736 - acc: 0.8125Epoch 1/25\n",
      "10/5 [============================================================] - 3s 273ms/sample - loss: 0.5890 - acc: 0.9000\n",
      "5/5 [==============================] - 14s 3s/step - loss: 0.4757 - acc: 0.8250 - val_loss: 0.5453 - val_acc: 0.9000\n",
      "Epoch 16/25\n",
      "4/5 [=======================>......] - ETA: 2s - loss: 0.4804 - acc: 0.8438Epoch 1/25\n",
      "10/5 [============================================================] - 3s 276ms/sample - loss: 0.5706 - acc: 0.9000\n",
      "5/5 [==============================] - 14s 3s/step - loss: 0.4789 - acc: 0.8750 - val_loss: 0.5281 - val_acc: 0.9000\n",
      "Epoch 17/25\n",
      "4/5 [=======================>......] - ETA: 2s - loss: 0.4804 - acc: 0.7812Epoch 1/25\n",
      "10/5 [============================================================] - 3s 282ms/sample - loss: 0.5597 - acc: 1.0000\n",
      "5/5 [==============================] - 14s 3s/step - loss: 0.4541 - acc: 0.8000 - val_loss: 0.5149 - val_acc: 1.0000\n",
      "Epoch 18/25\n",
      "4/5 [=======================>......] - ETA: 2s - loss: 0.4519 - acc: 0.8750Epoch 1/25\n",
      "10/5 [============================================================] - 3s 277ms/sample - loss: 0.5558 - acc: 0.9000\n",
      "5/5 [==============================] - 14s 3s/step - loss: 0.4446 - acc: 0.8750 - val_loss: 0.5074 - val_acc: 0.9000\n",
      "Epoch 19/25\n",
      "4/5 [=======================>......] - ETA: 2s - loss: 0.4588 - acc: 0.8125Epoch 1/25\n",
      "10/5 [============================================================] - 3s 273ms/sample - loss: 0.5450 - acc: 0.9000\n",
      "5/5 [==============================] - 14s 3s/step - loss: 0.4586 - acc: 0.8250 - val_loss: 0.4960 - val_acc: 0.9000\n",
      "Epoch 20/25\n",
      "4/5 [=======================>......] - ETA: 2s - loss: 0.3943 - acc: 0.9062Epoch 1/25\n",
      "10/5 [============================================================] - 3s 272ms/sample - loss: 0.5253 - acc: 1.0000\n",
      "5/5 [==============================] - 14s 3s/step - loss: 0.4114 - acc: 0.8750 - val_loss: 0.4777 - val_acc: 1.0000\n",
      "Epoch 21/25\n",
      "4/5 [=======================>......] - ETA: 2s - loss: 0.4260 - acc: 0.9062Epoch 1/25\n",
      "10/5 [============================================================] - 3s 272ms/sample - loss: 0.5138 - acc: 1.0000\n",
      "5/5 [==============================] - 14s 3s/step - loss: 0.4452 - acc: 0.8750 - val_loss: 0.4652 - val_acc: 1.0000\n",
      "Epoch 22/25\n",
      "4/5 [=======================>......] - ETA: 2s - loss: 0.4210 - acc: 0.8438Epoch 1/25\n",
      "10/5 [============================================================] - 3s 272ms/sample - loss: 0.5045 - acc: 1.0000\n",
      "5/5 [==============================] - 14s 3s/step - loss: 0.4272 - acc: 0.8250 - val_loss: 0.4554 - val_acc: 1.0000\n",
      "Epoch 23/25\n",
      "4/5 [=======================>......] - ETA: 2s - loss: 0.4132 - acc: 0.8750Epoch 1/25\n",
      "10/5 [============================================================] - 3s 272ms/sample - loss: 0.4938 - acc: 1.0000\n",
      "5/5 [==============================] - 14s 3s/step - loss: 0.3990 - acc: 0.8750 - val_loss: 0.4431 - val_acc: 1.0000\n",
      "Epoch 24/25\n",
      "4/5 [=======================>......] - ETA: 2s - loss: 0.3545 - acc: 0.9688Epoch 1/25\n",
      "10/5 [============================================================] - 3s 278ms/sample - loss: 0.4817 - acc: 1.0000\n",
      "5/5 [==============================] - 14s 3s/step - loss: 0.3501 - acc: 0.9250 - val_loss: 0.4305 - val_acc: 1.0000\n",
      "Epoch 25/25\n",
      "4/5 [=======================>......] - ETA: 2s - loss: 0.3618 - acc: 0.8750Epoch 1/25\n",
      "10/5 [============================================================] - 3s 271ms/sample - loss: 0.4684 - acc: 1.0000\n",
      "5/5 [==============================] - 14s 3s/step - loss: 0.3517 - acc: 0.8750 - val_loss: 0.4164 - val_acc: 1.0000\n"
     ]
    }
   ],
   "source": [
    "# compile our model\n",
    "print(\"[INFO] compiling model...\")\n",
    "opt = Adam(lr=INIT_LR, decay=INIT_LR / EPOCHS)\n",
    "model.compile(loss=\"binary_crossentropy\", optimizer=opt, metrics=[\"accuracy\"])\n",
    "# train the head of the network\n",
    "print(\"[INFO] training head...\")\n",
    "H = model.fit_generator(\n",
    "\ttrainAug.flow(trainX, trainY, batch_size=BS),\n",
    "\tsteps_per_epoch=len(trainX) // BS,\n",
    "\tvalidation_data=(testX, testY),\n",
    "\tvalidation_steps=len(testX) // BS,\n",
    "\tepochs=EPOCHS)"
   ]
  },
  {
   "cell_type": "code",
   "execution_count": 10,
   "metadata": {},
   "outputs": [
    {
     "name": "stdout",
     "output_type": "stream",
     "text": [
      "[INFO] evaluating network...\n",
      "              precision    recall  f1-score   support\n",
      "\n",
      "       covid       1.00      1.00      1.00         5\n",
      "      normal       1.00      1.00      1.00         5\n",
      "\n",
      "    accuracy                           1.00        10\n",
      "   macro avg       1.00      1.00      1.00        10\n",
      "weighted avg       1.00      1.00      1.00        10\n",
      "\n"
     ]
    }
   ],
   "source": [
    "# make predictions on the testing set\n",
    "print(\"[INFO] evaluating network...\")\n",
    "predIdxs = model.predict(testX, batch_size=BS)\n",
    "# for each image in the testing set we need to find the index of the\n",
    "# label with corresponding largest predicted probability\n",
    "predIdxs = np.argmax(predIdxs, axis=1)\n",
    "# show a nicely formatted classification report\n",
    "print(classification_report(testY.argmax(axis=1), predIdxs, target_names=lb.classes_))"
   ]
  },
  {
   "cell_type": "code",
   "execution_count": 11,
   "metadata": {},
   "outputs": [
    {
     "data": {
      "text/plain": [
       "array([1, 1, 1, 1, 0, 0, 0, 0, 1, 0], dtype=int64)"
      ]
     },
     "execution_count": 11,
     "metadata": {},
     "output_type": "execute_result"
    }
   ],
   "source": [
    "predIdxs"
   ]
  },
  {
   "cell_type": "code",
   "execution_count": 12,
   "metadata": {},
   "outputs": [
    {
     "name": "stdout",
     "output_type": "stream",
     "text": [
      "[[5 0]\n",
      " [0 5]]\n",
      "acc: 1.0000\n",
      "sensitivity: 1.0000\n",
      "specificity: 1.0000\n"
     ]
    }
   ],
   "source": [
    "# compute the confusion matrix and and use it to derive the raw\n",
    "# accuracy, sensitivity, and specificity\n",
    "cm = confusion_matrix(testY.argmax(axis=1), predIdxs)\n",
    "total = sum(sum(cm))\n",
    "acc = (cm[0, 0] + cm[1, 1]) / total\n",
    "sensitivity = cm[0, 0] / (cm[0, 0] + cm[0, 1])\n",
    "specificity = cm[1, 1] / (cm[1, 0] + cm[1, 1])\n",
    "# show the confusion matrix, accuracy, sensitivity, and specificity\n",
    "print(cm)\n",
    "print(\"acc: {:.4f}\".format(acc))\n",
    "print(\"sensitivity: {:.4f}\".format(sensitivity))\n",
    "print(\"specificity: {:.4f}\".format(specificity))\n"
   ]
  },
  {
   "cell_type": "code",
   "execution_count": 13,
   "metadata": {},
   "outputs": [
    {
     "data": {
      "text/plain": [
       "[0.45,\n",
       " 0.575,\n",
       " 0.5,\n",
       " 0.525,\n",
       " 0.575,\n",
       " 0.525,\n",
       " 0.725,\n",
       " 0.55,\n",
       " 0.675,\n",
       " 0.625,\n",
       " 0.65,\n",
       " 0.775,\n",
       " 0.825,\n",
       " 0.8,\n",
       " 0.825,\n",
       " 0.875,\n",
       " 0.8,\n",
       " 0.875,\n",
       " 0.825,\n",
       " 0.875,\n",
       " 0.875,\n",
       " 0.825,\n",
       " 0.875,\n",
       " 0.925,\n",
       " 0.875]"
      ]
     },
     "execution_count": 13,
     "metadata": {},
     "output_type": "execute_result"
    }
   ],
   "source": [
    "H.history[\"acc\"]"
   ]
  },
  {
   "cell_type": "code",
   "execution_count": 14,
   "metadata": {
    "scrolled": true
   },
   "outputs": [
    {
     "data": {
      "image/png": "[encoded data removed]",
      "text/plain": [
       "<Figure size 432x288 with 1 Axes>"
      ]
     },
     "metadata": {},
     "output_type": "display_data"
    }
   ],
   "source": [
    "# plot the training loss and accuracy\n",
    "N = EPOCHS\n",
    "plt.style.use(\"ggplot\")\n",
    "plt.figure()\n",
    "plt.plot(np.arange(0, N), H.history[\"loss\"], label=\"train_loss\")\n",
    "plt.plot(np.arange(0, N), H.history[\"val_loss\"], label=\"val_loss\")\n",
    "plt.plot(np.arange(0, N), H.history[\"acc\"], label=\"train_acc\")\n",
    "plt.plot(np.arange(0, N), H.history[\"val_acc\"], label=\"val_acc\")\n",
    "plt.title(\"Training Loss and Accuracy on COVID-19 Dataset\")\n",
    "plt.xlabel(\"Epoch #\")\n",
    "plt.ylabel(\"Loss/Accuracy\")\n",
    "plt.legend(loc=\"lower left\")\n",
    "plt.savefig(\"plot\")"
   ]
  },
  {
   "cell_type": "code",
   "execution_count": 15,
   "metadata": {},
   "outputs": [
    {
     "name": "stdout",
     "output_type": "stream",
     "text": [
      "[INFO] saving COVID-19 detector model...\n"
     ]
    }
   ],
   "source": [
    "print(\"[INFO] saving COVID-19 detector model...\")\n",
    "model.save(\"covid2model\", save_format=\"h5\")\n",
    "model_json = model.to_json()\n",
    "with open(\"model.json\", \"w\") as json_file:\n",
    "    json_file.write(model_json)"
   ]
  },
  {
   "cell_type": "markdown",
   "metadata": {},
   "source": [
    "json_file = open('model.json', 'r')\n",
    "loaded_model_json = json_file.read()\n",
    "json_file.close()\n",
    "loaded_model = model_from_json(loaded_model_json)\n",
    "# load weights into new model\n",
    "loaded_model.load_weights(\"covid2model\")\n",
    "print(\"Loaded model from disk\")\n",
    " \n",
    "# evaluate loaded model on test data\n",
    "loaded_model.compile(loss='binary_crossentropy', optimizer='rmsprop', metrics=['accuracy'])\n",
    "score = loaded_model.evaluate(testX, testY, verbose=0)\n",
    "print(\"%s: %.2f%%\" % (loaded_model.metrics_names[1], score[1]*100))"
   ]
  },
  {
   "cell_type": "markdown",
   "metadata": {},
   "source": [
    "loaded_model.predict"
   ]
  }
 ],
 "metadata": {
  "kernelspec": {
   "display_name": "Python 3",
   "language": "python",
   "name": "python3"
  },
  "language_info": {
   "codemirror_mode": {
    "name": "ipython",
    "version": 3
   },
   "file_extension": ".py",
   "mimetype": "text/x-python",
   "name": "python",
   "nbconvert_exporter": "python",
   "pygments_lexer": "ipython3",
   "version": "3.7.6"
  }
 },
 "nbformat": 4,
 "nbformat_minor": 4
}
